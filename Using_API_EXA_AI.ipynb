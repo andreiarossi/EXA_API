{
  "nbformat": 4,
  "nbformat_minor": 0,
  "metadata": {
    "colab": {
      "provenance": [],
      "include_colab_link": true
    },
    "kernelspec": {
      "name": "python3",
      "display_name": "Python 3"
    },
    "language_info": {
      "name": "python"
    }
  },
  "cells": [
    {
      "cell_type": "markdown",
      "metadata": {
        "id": "view-in-github",
        "colab_type": "text"
      },
      "source": [
        "<a href=\"https://colab.research.google.com/github/andreiarossi/EXA_API/blob/main/Using_API_EXA_AI.ipynb\" target=\"_parent\"><img src=\"https://colab.research.google.com/assets/colab-badge.svg\" alt=\"Open In Colab\"/></a>"
      ]
    },
    {
      "cell_type": "code",
      "source": [
        "!pip install exa_py"
      ],
      "metadata": {
        "id": "LGDBUclTvtFp"
      },
      "execution_count": null,
      "outputs": []
    },
    {
      "cell_type": "markdown",
      "source": [
        "\n",
        "---\n",
        "\n",
        "**1st EXEMPLE**\n",
        "\n",
        "---\n",
        "\n"
      ],
      "metadata": {
        "id": "b_s78-g-jrkC"
      }
    },
    {
      "cell_type": "code",
      "execution_count": null,
      "metadata": {
        "id": "KXod5c0cvdzL"
      },
      "outputs": [],
      "source": [
        "from time import timezone\n",
        "from exa_py import Exa\n",
        "\n",
        "# Exa API_KEY, get on website\n",
        "#exa = Exa(\"YOUR_API_EXA\")\n",
        "from google.colab import userdata\n",
        "api_key = userdata.get('Exa_API')\n",
        "exa = Exa(api_key)\n",
        "\n",
        "# Search\n",
        "results = exa.search(\n",
        "    \"Show me the lasts paper related to neurobiomimetic processing published in 2025\",\n",
        "    category=\"papers\" #query category (you can add/configure more: see exa.ai)\n",
        ")\n",
        "# Shows search results\n",
        "for result in results.results:\n",
        "    print(\"Título:\", result.title)\n",
        "    print(\"Link:\", result.url)\n",
        "    print(\"ID:\", result.id)\n",
        "    print(\"Score:\", result.score)\n",
        "    print(\"Data de Publicação:\", result.published_date)\n",
        "    print(\"Autor:\", result.author)\n",
        "    print(\"\\n\")"
      ]
    },
    {
      "cell_type": "markdown",
      "source": [
        "\n",
        "\n",
        "---\n",
        "\n",
        "**2nd EXEMPLE**\n",
        "\n",
        "---\n",
        "\n",
        "\n"
      ],
      "metadata": {
        "id": "reyAqHwUjjvN"
      }
    },
    {
      "cell_type": "code",
      "source": [
        "from exa_py import Exa\n",
        "\n",
        "# Exa API_KEY, get on website\n",
        "#exa = Exa(\"YOUR_API_EXA\")\n",
        "from google.colab import userdata\n",
        "api_key = userdata.get('Exa_API')\n",
        "exa = Exa(api_key)\n",
        "# Search\n",
        "result = exa.search_and_contents(\n",
        "    \"Show me the lasts DeepSeek publications\",\n",
        "    type=\"neural\",\n",
        "    use_autoprompt=True,\n",
        "    num_results=20,\n",
        "    summary={\n",
        "        \"query\": \"What does this paper cover?\"\n",
        "    },\n",
        "    category=\"research paper\",\n",
        "    exclude_domains=[\"en.wikipedia.org\"],\n",
        "    start_published_date=\"2024-01-01\"\n",
        ")\n",
        "\n",
        "# Shows search results\n",
        "for paper in result.results:\n",
        "    print(\"Title:\", paper.title)\n",
        "    print(\"URL:\", paper.url)\n",
        "\n",
        "    # Access publish data attributes\n",
        "    print(\"Publication Date:\", paper.published_date)  # Try with 'published_date' or another one\n",
        "\n",
        "    print(\"Author:\", paper.author)\n",
        "    print(\"Summary:\", paper.summary)\n",
        "    print(\"\\n\" + \"-\"*80 + \"\\n\")\n"
      ],
      "metadata": {
        "id": "LZ_Fobw9zWOc"
      },
      "execution_count": null,
      "outputs": []
    }
  ]
}